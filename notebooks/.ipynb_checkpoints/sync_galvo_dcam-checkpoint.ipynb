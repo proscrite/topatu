{
 "cells": [
  {
   "cell_type": "code",
   "execution_count": 2,
   "metadata": {},
   "outputs": [],
   "source": [
    "import pylablib.aux_libs.devices.DCAM as cam\n",
    "from pylablib.aux_libs.devices.DCAM_lib import lib, DCAMLibError\n",
    "\n",
    "import matplotlib.pyplot as plt\n",
    "import sys\n",
    "sys.path.append('C:\\\\Users\\\\IFIc\\\\Projects\\\\sabatsw\\\\laserlab\\\\scripts')\n",
    "from galvo_python.galvos import *\n",
    "from galvo_python.gaussian2dFit import *\n",
    "from time import sleep\n",
    "import logging\n",
    "import warnings\n",
    "from skimage import io"
   ]
  },
  {
   "cell_type": "code",
   "execution_count": null,
   "metadata": {},
   "outputs": [],
   "source": [
    "serialport = open_serial_port()"
   ]
  },
  {
   "cell_type": "code",
   "execution_count": 3,
   "metadata": {},
   "outputs": [
    {
     "data": {
      "text/plain": [
       "'busy'"
      ]
     },
     "execution_count": 3,
     "metadata": {},
     "output_type": "execute_result"
    }
   ],
   "source": [
    "cam0 = cam.DCAMCamera(0)\n",
    "lib.dcamapi_uninit()     # For some reason this must be run before opening the camera\n",
    "cam0.open()\n",
    "\n",
    "min_texp = cam0.properties['EXPOSURE TIME'].min\n",
    "cam0.set_value('EXPOSURE TIME', min_texp)\n",
    "\n",
    "cam0.start_acquisition()\n",
    "cam0.get_status()"
   ]
  },
  {
   "cell_type": "code",
   "execution_count": null,
   "metadata": {},
   "outputs": [],
   "source": [
    "cam0.start_acquisition(mode='snap', nframes=100)\n",
    "cam0.get_status()"
   ]
  },
  {
   "cell_type": "code",
   "execution_count": null,
   "metadata": {},
   "outputs": [],
   "source": [
    "cam0.set_trigger_mode('software')\n",
    "\n",
    "cam0.get_trigger_mode()\n",
    "\n",
    "cam0.set_value('TRIGGER MODE', 'LEVEL')\n",
    "\n",
    "cam0.set_value('TRIGGER SOURCE', 1)\n",
    "\n",
    "cam0.properties['TRIGGER SOURCE']\n",
    "\n",
    "cam0.get_value('MASTER PULSE TRIGGER SOURCE')\n",
    "\n",
    "cam0.set_value('MASTER PULSE TRIGGER SOURCE', 2)\n",
    "\n",
    "cam0.set_value('TRIGGER POLARITY', 2)\n",
    "\n",
    "cam0.set_value('OUTPUT TRIGGER PERIOD[0]', 1E-3)\n",
    "\n",
    "cam0.get_value('TRIGGER CONNECTOR',1)\n",
    "\n",
    "cam0.send_software_trigger()\n",
    "\n",
    "cam0.list_properties()\n",
    "\n",
    "cam0.get_all_properties()\n",
    "\n",
    "\n",
    "\n",
    "cam0.get_exposure()\n",
    "\n",
    "frame= cam0.snap(100)\n",
    "plt.imshow(frame[0])"
   ]
  }
 ],
 "metadata": {
  "kernelspec": {
   "display_name": "Python 3",
   "language": "python",
   "name": "python3"
  },
  "language_info": {
   "codemirror_mode": {
    "name": "ipython",
    "version": 3
   },
   "file_extension": ".py",
   "mimetype": "text/x-python",
   "name": "python",
   "nbconvert_exporter": "python",
   "pygments_lexer": "ipython3",
   "version": "3.7.4"
  },
  "toc": {
   "base_numbering": 1,
   "nav_menu": {},
   "number_sections": true,
   "sideBar": true,
   "skip_h1_title": false,
   "title_cell": "Table of Contents",
   "title_sidebar": "Contents",
   "toc_cell": false,
   "toc_position": {},
   "toc_section_display": true,
   "toc_window_display": false
  }
 },
 "nbformat": 4,
 "nbformat_minor": 2
}
